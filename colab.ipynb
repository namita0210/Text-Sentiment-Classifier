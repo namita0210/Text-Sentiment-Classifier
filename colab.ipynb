{
 "cells": [
  {
   "cell_type": "markdown",
   "metadata": {
    "id": "view-in-github",
    "colab_type": "text"
   },
   "source": [
    "<a href=\"https://colab.research.google.com/github/namita0210/Text-Sentiment-Classifier/blob/main/colab.ipynb\" target=\"_parent\"><img src=\"https://colab.research.google.com/assets/colab-badge.svg\" alt=\"Open In Colab\"/></a>"
   ]
  },
  {
   "metadata": {
    "ExecuteTime": {
     "end_time": "2025-06-14T15:41:51.094356Z",
     "start_time": "2025-06-14T15:41:39.681647Z"
    }
   },
   "cell_type": "code",
   "source": [
    "import pandas as pd\n",
    "from kagglehub import dataset_download\n",
    "import seaborn as sns\n",
    "import matplotlib.pyplot as plt\n",
    "from sklearn.preprocessing import LabelEncoder\n",
    "import re\n",
    "import numpy as np\n",
    "from scipy.sparse import hstack\n",
    "import string\n",
    "import nltk\n",
    "from nltk.corpus import stopwords\n",
    "from nltk.stem import WordNetLemmatizer as lemmy\n",
    "from nltk.tokenize import word_tokenize\n",
    "from sklearn.feature_extraction.text import TfidfVectorizer\n",
    "#import tensorflow as tf\n",
    "#from tensorflow.keras.models import Sequential\n",
    "#from tensorflow.keras.layers import Embedding, Dense, Flatten\n",
    "nltk.download('punkt_tab')\n",
    "nltk.download('averaged_perceptron_tagger_eng') # It uses the perceptron algorithm to assign parts of speech to words based on context.\n",
    "nltk.download('punkt') # for tokenizing text to words or sentences\n",
    "nltk.download('stopwords') # populary removed words\n",
    "nltk.download('wordnet') #dictionary of words to reduce them to their base form : lemmatize\n",
    "nltk.download('averaged_perceptron_tagger')  # For POS tagging\n",
    "print(\"Done\")"
   ],
   "outputs": [
    {
     "name": "stderr",
     "output_type": "stream",
     "text": [
      "[nltk_data] Downloading package punkt_tab to\n",
      "[nltk_data]     C:\\Users\\smile\\AppData\\Roaming\\nltk_data...\n",
      "[nltk_data]   Unzipping tokenizers\\punkt_tab.zip.\n",
      "[nltk_data] Downloading package averaged_perceptron_tagger_eng to\n",
      "[nltk_data]     C:\\Users\\smile\\AppData\\Roaming\\nltk_data...\n",
      "[nltk_data]   Unzipping taggers\\averaged_perceptron_tagger_eng.zip.\n",
      "[nltk_data] Downloading package punkt to\n",
      "[nltk_data]     C:\\Users\\smile\\AppData\\Roaming\\nltk_data...\n",
      "[nltk_data]   Unzipping tokenizers\\punkt.zip.\n",
      "[nltk_data] Downloading package stopwords to\n",
      "[nltk_data]     C:\\Users\\smile\\AppData\\Roaming\\nltk_data...\n",
      "[nltk_data]   Unzipping corpora\\stopwords.zip.\n",
      "[nltk_data] Downloading package wordnet to\n",
      "[nltk_data]     C:\\Users\\smile\\AppData\\Roaming\\nltk_data...\n",
      "[nltk_data] Downloading package averaged_perceptron_tagger to\n",
      "[nltk_data]     C:\\Users\\smile\\AppData\\Roaming\\nltk_data...\n"
     ]
    },
    {
     "name": "stdout",
     "output_type": "stream",
     "text": [
      "Done\n"
     ]
    },
    {
     "name": "stderr",
     "output_type": "stream",
     "text": [
      "[nltk_data]   Unzipping taggers\\averaged_perceptron_tagger.zip.\n"
     ]
    }
   ],
   "execution_count": 6
  },
  {
   "metadata": {
    "ExecuteTime": {
     "end_time": "2025-06-14T15:44:23.992467Z",
     "start_time": "2025-06-14T15:44:23.109570Z"
    }
   },
   "cell_type": "code",
   "source": [
    "# Download latest version\n",
    "path = dataset_download(\"jp797498e/twitter-entity-sentiment-analysis\")\n",
    "print(\"Path to dataset files:\", path)"
   ],
   "outputs": [
    {
     "name": "stdout",
     "output_type": "stream",
     "text": [
      "Path to dataset files: C:\\Users\\smile\\.cache\\kagglehub\\datasets\\jp797498e\\twitter-entity-sentiment-analysis\\versions\\2\n"
     ]
    }
   ],
   "execution_count": 8
  },
  {
   "cell_type": "code",
   "metadata": {
    "id": "ycGSBHTwCVug",
    "ExecuteTime": {
     "end_time": "2025-06-14T15:44:26.783811Z",
     "start_time": "2025-06-14T15:44:26.242780Z"
    }
   },
   "source": [
    "train_df = pd.read_csv(path + '/twitter_training.csv' , header = None)\n",
    "val_df = pd.read_csv(path + '/twitter_validation.csv', header = None)\n",
    "train_df.columns = ['id','title','sentiment','text']\n",
    "val_df.columns = ['id','title','sentiment','text']\n",
    "\n",
    "print(f'''Train Df Shape : {train_df.shape}\n",
    "Validation Df Shape : {val_df.shape}''')"
   ],
   "outputs": [
    {
     "name": "stdout",
     "output_type": "stream",
     "text": [
      "Train Df Shape : (74682, 4)\n",
      "Validation Df Shape : (1000, 4)\n"
     ]
    }
   ],
   "execution_count": 9
  },
  {
   "cell_type": "code",
   "metadata": {
    "colab": {
     "base_uri": "https://localhost:8080/"
    },
    "id": "6kE0uJu1CVug",
    "outputId": "68e92f81-0689-4232-fae1-a5b8ceeed0f9",
    "ExecuteTime": {
     "end_time": "2025-06-14T15:44:28.089955Z",
     "start_time": "2025-06-14T15:44:27.907631Z"
    }
   },
   "source": [
    "train_df.info()"
   ],
   "outputs": [
    {
     "name": "stdout",
     "output_type": "stream",
     "text": [
      "<class 'pandas.core.frame.DataFrame'>\n",
      "RangeIndex: 74682 entries, 0 to 74681\n",
      "Data columns (total 4 columns):\n",
      " #   Column     Non-Null Count  Dtype \n",
      "---  ------     --------------  ----- \n",
      " 0   id         74682 non-null  int64 \n",
      " 1   title      74682 non-null  object\n",
      " 2   sentiment  74682 non-null  object\n",
      " 3   text       73996 non-null  object\n",
      "dtypes: int64(1), object(3)\n",
      "memory usage: 2.3+ MB\n"
     ]
    }
   ],
   "execution_count": 10
  },
  {
   "cell_type": "code",
   "metadata": {
    "id": "7LjHt17WCVuh",
    "ExecuteTime": {
     "end_time": "2025-06-14T15:44:29.273169Z",
     "start_time": "2025-06-14T15:44:29.209645Z"
    }
   },
   "source": [
    "train_df.dropna(subset=['text'], inplace=True)"
   ],
   "outputs": [],
   "execution_count": 11
  },
  {
   "metadata": {
    "ExecuteTime": {
     "end_time": "2025-06-14T15:44:30.363365Z",
     "start_time": "2025-06-14T15:44:30.283119Z"
    }
   },
   "cell_type": "code",
   "source": "train_df.head(2)",
   "outputs": [
    {
     "data": {
      "text/plain": [
       "     id        title sentiment  \\\n",
       "0  2401  Borderlands  Positive   \n",
       "1  2401  Borderlands  Positive   \n",
       "\n",
       "                                                text  \n",
       "0  im getting on borderlands and i will murder yo...  \n",
       "1  I am coming to the borders and I will kill you...  "
      ],
      "text/html": [
       "<div>\n",
       "<style scoped>\n",
       "    .dataframe tbody tr th:only-of-type {\n",
       "        vertical-align: middle;\n",
       "    }\n",
       "\n",
       "    .dataframe tbody tr th {\n",
       "        vertical-align: top;\n",
       "    }\n",
       "\n",
       "    .dataframe thead th {\n",
       "        text-align: right;\n",
       "    }\n",
       "</style>\n",
       "<table border=\"1\" class=\"dataframe\">\n",
       "  <thead>\n",
       "    <tr style=\"text-align: right;\">\n",
       "      <th></th>\n",
       "      <th>id</th>\n",
       "      <th>title</th>\n",
       "      <th>sentiment</th>\n",
       "      <th>text</th>\n",
       "    </tr>\n",
       "  </thead>\n",
       "  <tbody>\n",
       "    <tr>\n",
       "      <th>0</th>\n",
       "      <td>2401</td>\n",
       "      <td>Borderlands</td>\n",
       "      <td>Positive</td>\n",
       "      <td>im getting on borderlands and i will murder yo...</td>\n",
       "    </tr>\n",
       "    <tr>\n",
       "      <th>1</th>\n",
       "      <td>2401</td>\n",
       "      <td>Borderlands</td>\n",
       "      <td>Positive</td>\n",
       "      <td>I am coming to the borders and I will kill you...</td>\n",
       "    </tr>\n",
       "  </tbody>\n",
       "</table>\n",
       "</div>"
      ]
     },
     "execution_count": 12,
     "metadata": {},
     "output_type": "execute_result"
    }
   ],
   "execution_count": 12
  },
  {
   "metadata": {
    "ExecuteTime": {
     "end_time": "2025-06-14T15:44:33.884963Z",
     "start_time": "2025-06-14T15:44:33.859200Z"
    }
   },
   "cell_type": "code",
   "source": "val_df.info()",
   "outputs": [
    {
     "name": "stdout",
     "output_type": "stream",
     "text": [
      "<class 'pandas.core.frame.DataFrame'>\n",
      "RangeIndex: 1000 entries, 0 to 999\n",
      "Data columns (total 4 columns):\n",
      " #   Column     Non-Null Count  Dtype \n",
      "---  ------     --------------  ----- \n",
      " 0   id         1000 non-null   int64 \n",
      " 1   title      1000 non-null   object\n",
      " 2   sentiment  1000 non-null   object\n",
      " 3   text       1000 non-null   object\n",
      "dtypes: int64(1), object(3)\n",
      "memory usage: 31.4+ KB\n"
     ]
    }
   ],
   "execution_count": 13
  },
  {
   "metadata": {
    "ExecuteTime": {
     "end_time": "2025-06-14T15:44:37.179386Z",
     "start_time": "2025-06-14T15:44:37.158500Z"
    }
   },
   "cell_type": "code",
   "source": "val_df.head(2)",
   "outputs": [
    {
     "data": {
      "text/plain": [
       "     id     title   sentiment  \\\n",
       "0  3364  Facebook  Irrelevant   \n",
       "1   352    Amazon     Neutral   \n",
       "\n",
       "                                                text  \n",
       "0  I mentioned on Facebook that I was struggling ...  \n",
       "1  BBC News - Amazon boss Jeff Bezos rejects clai...  "
      ],
      "text/html": [
       "<div>\n",
       "<style scoped>\n",
       "    .dataframe tbody tr th:only-of-type {\n",
       "        vertical-align: middle;\n",
       "    }\n",
       "\n",
       "    .dataframe tbody tr th {\n",
       "        vertical-align: top;\n",
       "    }\n",
       "\n",
       "    .dataframe thead th {\n",
       "        text-align: right;\n",
       "    }\n",
       "</style>\n",
       "<table border=\"1\" class=\"dataframe\">\n",
       "  <thead>\n",
       "    <tr style=\"text-align: right;\">\n",
       "      <th></th>\n",
       "      <th>id</th>\n",
       "      <th>title</th>\n",
       "      <th>sentiment</th>\n",
       "      <th>text</th>\n",
       "    </tr>\n",
       "  </thead>\n",
       "  <tbody>\n",
       "    <tr>\n",
       "      <th>0</th>\n",
       "      <td>3364</td>\n",
       "      <td>Facebook</td>\n",
       "      <td>Irrelevant</td>\n",
       "      <td>I mentioned on Facebook that I was struggling ...</td>\n",
       "    </tr>\n",
       "    <tr>\n",
       "      <th>1</th>\n",
       "      <td>352</td>\n",
       "      <td>Amazon</td>\n",
       "      <td>Neutral</td>\n",
       "      <td>BBC News - Amazon boss Jeff Bezos rejects clai...</td>\n",
       "    </tr>\n",
       "  </tbody>\n",
       "</table>\n",
       "</div>"
      ]
     },
     "execution_count": 14,
     "metadata": {},
     "output_type": "execute_result"
    }
   ],
   "execution_count": 14
  },
  {
   "cell_type": "code",
   "metadata": {
    "colab": {
     "base_uri": "https://localhost:8080/"
    },
    "id": "6jAP-CAbCVuh",
    "outputId": "713709e9-4091-48a9-fa22-1d7dfae972ee",
    "ExecuteTime": {
     "end_time": "2025-06-14T15:44:42.344735Z",
     "start_time": "2025-06-14T15:44:42.320768Z"
    }
   },
   "source": [
    "train_df['sentiment'].unique()"
   ],
   "outputs": [
    {
     "data": {
      "text/plain": [
       "array(['Positive', 'Neutral', 'Negative', 'Irrelevant'], dtype=object)"
      ]
     },
     "execution_count": 15,
     "metadata": {},
     "output_type": "execute_result"
    }
   ],
   "execution_count": 15
  },
  {
   "metadata": {
    "ExecuteTime": {
     "end_time": "2025-06-14T15:45:08.008668Z",
     "start_time": "2025-06-14T15:45:07.622623Z"
    }
   },
   "cell_type": "code",
   "source": [
    "color = {'Positive':'Green', 'Neutral':'Yellow', 'Irrelevant':'Grey','Negative':'Red'}\n",
    "\n",
    "sns.countplot(x='sentiment', data=train_df\n",
    "              ,order=['Positive','Neutral','Negative','Irrelevant']\n",
    "              ,hue='sentiment'\n",
    "              ,legend=True\n",
    "              ,palette=color)\n",
    "plt.xlabel('Sentiments')\n",
    "plt.ylabel('Count of Sentiments Expressed')\n",
    "plt.title('Sentiment Frequency Chart')\n",
    "plt.tight_layout()\n",
    "plt.show()"
   ],
   "outputs": [
    {
     "data": {
      "text/plain": [
       "<Figure size 640x480 with 1 Axes>"
      ],
      "image/png": "[encoded data removed]"
     },
     "metadata": {},
     "output_type": "display_data"
    }
   ],
   "execution_count": 18
  },
  {
   "metadata": {},
   "cell_type": "markdown",
   "source": "### Clean the Data"
  },
  {
   "metadata": {
    "ExecuteTime": {
     "end_time": "2025-06-14T15:45:13.188702Z",
     "start_time": "2025-06-14T15:45:13.179144Z"
    }
   },
   "cell_type": "code",
   "source": [
    "stop_words = set(stopwords.words('english')) #stopwords is a class whose object is words and english is it's argument which is stored in a variable called stop_words\n",
    "\n",
    "lm = lemmy() #lm is an instance of the lemmy() class"
   ],
   "outputs": [],
   "execution_count": 20
  },
  {
   "metadata": {
    "ExecuteTime": {
     "end_time": "2025-06-14T15:45:15.053157Z",
     "start_time": "2025-06-14T15:45:15.043817Z"
    }
   },
   "cell_type": "code",
   "source": [
    "def clean(text):\n",
    "    text=text.lower() #lowercase\n",
    "\n",
    "    no_punct = re.sub(r'[^a-z\\s]','',text) #remove punctuation, digits\n",
    "\n",
    "    words = word_tokenize(no_punct) #split text into words, returns a list\n",
    "\n",
    "    words = [i for i in words if i not in stop_words] #remove stopwords\n",
    "\n",
    "    pos_tags = nltk.pos_tag(words) # returns a tuple (word, pos tag)\n",
    "\n",
    "    words = [\n",
    "    lm.lemmatize(word, pos='v') if tag.startswith('V') else  # If tag starts with 'V', treat as verb\n",
    "    lm.lemmatize(word, pos='n') if tag.startswith('N') else  # If tag starts with 'N', treat as noun\n",
    "    lm.lemmatize(word, pos='a') if tag.startswith('R') else  # If tag starts with 'R', treat as adjective/adverb\n",
    "    lm.lemmatize(word)  # Default to noun if no match\n",
    "    for word, tag in pos_tags\n",
    "    ] #lemmatize returns a string\n",
    "\n",
    "    clean_words = ' '.join(words) # joins the words in the list seperated by a space\n",
    "\n",
    "    return clean_words #This is a list."
   ],
   "outputs": [],
   "execution_count": 21
  },
  {
   "cell_type": "code",
   "metadata": {
    "id": "L-3LJgLECVui",
    "ExecuteTime": {
     "end_time": "2025-06-14T15:46:19.134780Z",
     "start_time": "2025-06-14T15:45:19.059997Z"
    }
   },
   "source": [
    "train_df['text']=train_df['text'].apply(clean)"
   ],
   "outputs": [],
   "execution_count": 22
  },
  {
   "cell_type": "code",
   "source": "train_df.head()",
   "metadata": {
    "colab": {
     "base_uri": "https://localhost:8080/",
     "height": 423
    },
    "id": "Y-cDwLxgCyPI",
    "outputId": "ad59f242-6acc-4a71-c28f-8520df78deb4",
    "ExecuteTime": {
     "end_time": "2025-06-14T15:46:23.512043Z",
     "start_time": "2025-06-14T15:46:23.498498Z"
    }
   },
   "outputs": [
    {
     "data": {
      "text/plain": [
       "     id        title sentiment                       text\n",
       "0  2401  Borderlands  Positive   im get borderland murder\n",
       "1  2401  Borderlands  Positive           come border kill\n",
       "2  2401  Borderlands  Positive     im get borderland kill\n",
       "3  2401  Borderlands  Positive  im come borderland murder\n",
       "4  2401  Borderlands  Positive   im get borderland murder"
      ],
      "text/html": [
       "<div>\n",
       "<style scoped>\n",
       "    .dataframe tbody tr th:only-of-type {\n",
       "        vertical-align: middle;\n",
       "    }\n",
       "\n",
       "    .dataframe tbody tr th {\n",
       "        vertical-align: top;\n",
       "    }\n",
       "\n",
       "    .dataframe thead th {\n",
       "        text-align: right;\n",
       "    }\n",
       "</style>\n",
       "<table border=\"1\" class=\"dataframe\">\n",
       "  <thead>\n",
       "    <tr style=\"text-align: right;\">\n",
       "      <th></th>\n",
       "      <th>id</th>\n",
       "      <th>title</th>\n",
       "      <th>sentiment</th>\n",
       "      <th>text</th>\n",
       "    </tr>\n",
       "  </thead>\n",
       "  <tbody>\n",
       "    <tr>\n",
       "      <th>0</th>\n",
       "      <td>2401</td>\n",
       "      <td>Borderlands</td>\n",
       "      <td>Positive</td>\n",
       "      <td>im get borderland murder</td>\n",
       "    </tr>\n",
       "    <tr>\n",
       "      <th>1</th>\n",
       "      <td>2401</td>\n",
       "      <td>Borderlands</td>\n",
       "      <td>Positive</td>\n",
       "      <td>come border kill</td>\n",
       "    </tr>\n",
       "    <tr>\n",
       "      <th>2</th>\n",
       "      <td>2401</td>\n",
       "      <td>Borderlands</td>\n",
       "      <td>Positive</td>\n",
       "      <td>im get borderland kill</td>\n",
       "    </tr>\n",
       "    <tr>\n",
       "      <th>3</th>\n",
       "      <td>2401</td>\n",
       "      <td>Borderlands</td>\n",
       "      <td>Positive</td>\n",
       "      <td>im come borderland murder</td>\n",
       "    </tr>\n",
       "    <tr>\n",
       "      <th>4</th>\n",
       "      <td>2401</td>\n",
       "      <td>Borderlands</td>\n",
       "      <td>Positive</td>\n",
       "      <td>im get borderland murder</td>\n",
       "    </tr>\n",
       "  </tbody>\n",
       "</table>\n",
       "</div>"
      ]
     },
     "execution_count": 23,
     "metadata": {},
     "output_type": "execute_result"
    }
   ],
   "execution_count": 23
  },
  {
   "cell_type": "code",
   "source": "train_df['text']=train_df['text'].apply(word_tokenize) #Because we need a list of words",
   "metadata": {
    "id": "3w8AfdFNC-7f",
    "ExecuteTime": {
     "end_time": "2025-06-14T15:46:33.982037Z",
     "start_time": "2025-06-14T15:46:30.145033Z"
    }
   },
   "outputs": [],
   "execution_count": 24
  },
  {
   "metadata": {
    "ExecuteTime": {
     "end_time": "2025-06-14T15:46:34.977222Z",
     "start_time": "2025-06-14T15:46:34.953224Z"
    }
   },
   "cell_type": "code",
   "source": "train_df.head(3)",
   "outputs": [
    {
     "data": {
      "text/plain": [
       "     id        title sentiment                           text\n",
       "0  2401  Borderlands  Positive  [im, get, borderland, murder]\n",
       "1  2401  Borderlands  Positive           [come, border, kill]\n",
       "2  2401  Borderlands  Positive    [im, get, borderland, kill]"
      ],
      "text/html": [
       "<div>\n",
       "<style scoped>\n",
       "    .dataframe tbody tr th:only-of-type {\n",
       "        vertical-align: middle;\n",
       "    }\n",
       "\n",
       "    .dataframe tbody tr th {\n",
       "        vertical-align: top;\n",
       "    }\n",
       "\n",
       "    .dataframe thead th {\n",
       "        text-align: right;\n",
       "    }\n",
       "</style>\n",
       "<table border=\"1\" class=\"dataframe\">\n",
       "  <thead>\n",
       "    <tr style=\"text-align: right;\">\n",
       "      <th></th>\n",
       "      <th>id</th>\n",
       "      <th>title</th>\n",
       "      <th>sentiment</th>\n",
       "      <th>text</th>\n",
       "    </tr>\n",
       "  </thead>\n",
       "  <tbody>\n",
       "    <tr>\n",
       "      <th>0</th>\n",
       "      <td>2401</td>\n",
       "      <td>Borderlands</td>\n",
       "      <td>Positive</td>\n",
       "      <td>[im, get, borderland, murder]</td>\n",
       "    </tr>\n",
       "    <tr>\n",
       "      <th>1</th>\n",
       "      <td>2401</td>\n",
       "      <td>Borderlands</td>\n",
       "      <td>Positive</td>\n",
       "      <td>[come, border, kill]</td>\n",
       "    </tr>\n",
       "    <tr>\n",
       "      <th>2</th>\n",
       "      <td>2401</td>\n",
       "      <td>Borderlands</td>\n",
       "      <td>Positive</td>\n",
       "      <td>[im, get, borderland, kill]</td>\n",
       "    </tr>\n",
       "  </tbody>\n",
       "</table>\n",
       "</div>"
      ]
     },
     "execution_count": 25,
     "metadata": {},
     "output_type": "execute_result"
    }
   ],
   "execution_count": 25
  },
  {
   "metadata": {},
   "cell_type": "markdown",
   "source": "### BOW"
  },
  {
   "metadata": {
    "ExecuteTime": {
     "end_time": "2025-06-14T15:52:47.241462Z",
     "start_time": "2025-06-14T15:52:47.215212Z"
    }
   },
   "cell_type": "code",
   "source": [
    "from sklearn.feature_extraction.text import CountVectorizer\n",
    "from scipy.sparse import hstack\n",
    "from sklearn.preprocessing import StandardScaler"
   ],
   "outputs": [],
   "execution_count": 40
  },
  {
   "metadata": {},
   "cell_type": "code",
   "outputs": [],
   "execution_count": null,
   "source": [
    "# Step 1: Get the data and ensure proper tokenization\n",
    "bow_data = train_df.head(10)"
   ]
  },
  {
   "metadata": {},
   "cell_type": "code",
   "outputs": [],
   "execution_count": null,
   "source": [
    "bow_data.info()\n",
    "print(bow_data['text'].iloc[0])"
   ]
  },
  {
   "metadata": {
    "ExecuteTime": {
     "end_time": "2025-06-14T15:46:53.692427Z",
     "start_time": "2025-06-14T15:46:53.675538Z"
    }
   },
   "cell_type": "code",
   "source": [
    "# Step 2 - Create a vocabulary\n",
    "corpus = sorted(bow_data['text'].explode().unique().tolist())"
   ],
   "outputs": [],
   "execution_count": 30
  },
  {
   "metadata": {
    "ExecuteTime": {
     "end_time": "2025-06-14T15:46:55.119875Z",
     "start_time": "2025-06-14T15:46:55.112562Z"
    }
   },
   "cell_type": "code",
   "source": "print(len(corpus))",
   "outputs": [
    {
     "name": "stdout",
     "output_type": "stream",
     "text": [
      "36\n"
     ]
    }
   ],
   "execution_count": 31
  },
  {
   "metadata": {
    "ExecuteTime": {
     "end_time": "2025-06-14T15:46:56.288502Z",
     "start_time": "2025-06-14T15:46:56.262359Z"
    }
   },
   "cell_type": "code",
   "source": [
    "# Step 3 - Vectorization\n",
    "# Join tokens back into strings (required by CountVectorizer)\n",
    "bow_data.loc[:, 'text_joined'] = bow_data['text'].str.join(' ')\n",
    "vectorizer = CountVectorizer(vocabulary=corpus)\n",
    "X_bow = vectorizer.fit_transform(bow_data['text_joined'])"
   ],
   "outputs": [
    {
     "name": "stderr",
     "output_type": "stream",
     "text": [
      "C:\\Users\\smile\\AppData\\Local\\Temp\\ipykernel_15808\\3876171451.py:3: SettingWithCopyWarning: \n",
      "A value is trying to be set on a copy of a slice from a DataFrame.\n",
      "Try using .loc[row_indexer,col_indexer] = value instead\n",
      "\n",
      "See the caveats in the documentation: https://pandas.pydata.org/pandas-docs/stable/user_guide/indexing.html#returning-a-view-versus-a-copy\n",
      "  bow_data.loc[:, 'text_joined'] = bow_data['text'].str.join(' ')\n"
     ]
    }
   ],
   "execution_count": 32
  },
  {
   "metadata": {
    "ExecuteTime": {
     "end_time": "2025-06-14T15:47:40.809714Z",
     "start_time": "2025-06-14T15:47:40.796282Z"
    }
   },
   "cell_type": "code",
   "source": "X_bow",
   "outputs": [
    {
     "data": {
      "text/plain": [
       "<Compressed Sparse Row sparse matrix of dtype 'int64'\n",
       "\twith 109 stored elements and shape (10, 36)>"
      ]
     },
     "execution_count": 33,
     "metadata": {},
     "output_type": "execute_result"
    }
   ],
   "execution_count": 33
  },
  {
   "metadata": {
    "ExecuteTime": {
     "end_time": "2025-06-14T15:52:33.639941Z",
     "start_time": "2025-06-14T15:52:33.496314Z"
    }
   },
   "cell_type": "code",
   "source": [
    "# Step 3.1 - Combine the bow matrix with the other features in the dataframe\n",
    "print(f'''{bow_data['title'].unique()}\n",
    "{bow_data['sentiment'].unique()}''')\n",
    "\n",
    "categorical_feature_0 = pd.get_dummies(bow_data['title']).values\n",
    "categorical_feature_1 = pd.get_dummies(bow_data['sentiment']).values"
   ],
   "outputs": [
    {
     "name": "stdout",
     "output_type": "stream",
     "text": [
      "['Borderlands']\n",
      "['Positive']\n"
     ]
    }
   ],
   "execution_count": 39
  },
  {
   "metadata": {},
   "cell_type": "code",
   "outputs": [],
   "execution_count": null,
   "source": "vectorizer = TfidfVectorizer()"
  },
  {
   "metadata": {},
   "cell_type": "code",
   "outputs": [],
   "execution_count": null,
   "source": "X = vectorizer.fit_transform(train_df['text'])"
  },
  {
   "cell_type": "code",
   "source": [
    "X"
   ],
   "metadata": {
    "id": "AlM1UXyKxEWX",
    "colab": {
     "base_uri": "https://localhost:8080/"
    },
    "outputId": "d2044287-58d1-4fcf-bd85-eb450f26cbf3"
   },
   "execution_count": 18,
   "outputs": [
    {
     "output_type": "execute_result",
     "data": {
      "text/plain": [
       "<73996x34526 sparse matrix of type '<class 'numpy.float64'>'\n",
       "\twith 743446 stored elements in Compressed Sparse Row format>"
      ]
     },
     "metadata": {},
     "execution_count": 18
    }
   ]
  },
  {
   "cell_type": "code",
   "source": [
    "type(X)"
   ],
   "metadata": {
    "colab": {
     "base_uri": "https://localhost:8080/",
     "height": 186
    },
    "id": "sU954xPDmyIK",
    "outputId": "d3109457-0d3e-45ce-858e-e1efd7554c8a"
   },
   "execution_count": 34,
   "outputs": [
    {
     "output_type": "execute_result",
     "data": {
      "text/plain": [
       "scipy.sparse._csr.csr_matrix"
      ],
      "text/html": [
       "<div style=\"max-width:800px; border: 1px solid var(--colab-border-color);\"><style>\n",
       "      pre.function-repr-contents {\n",
       "        overflow-x: auto;\n",
       "        padding: 8px 12px;\n",
       "        max-height: 500px;\n",
       "      }\n",
       "\n",
       "      pre.function-repr-contents.function-repr-contents-collapsed {\n",
       "        cursor: pointer;\n",
       "        max-height: 100px;\n",
       "      }\n",
       "    </style>\n",
       "    <pre style=\"white-space: initial; background:\n",
       "         var(--colab-secondary-surface-color); padding: 8px 12px;\n",
       "         border-bottom: 1px solid var(--colab-border-color);\"><b>scipy.sparse._csr.csr_matrix</b><br/>def __init__(arg1, shape=None, dtype=None, copy=False)</pre><pre class=\"function-repr-contents function-repr-contents-collapsed\" style=\"\"><a class=\"filepath\" style=\"display:none\" href=\"#\">/usr/local/lib/python3.11/dist-packages/scipy/sparse/_csr.py</a>Compressed Sparse Row matrix.\n",
       "\n",
       "This can be instantiated in several ways:\n",
       "    csr_matrix(D)\n",
       "        where D is a 2-D ndarray\n",
       "\n",
       "    csr_matrix(S)\n",
       "        with another sparse array or matrix S (equivalent to S.tocsr())\n",
       "\n",
       "    csr_matrix((M, N), [dtype])\n",
       "        to construct an empty matrix with shape (M, N)\n",
       "        dtype is optional, defaulting to dtype=&#x27;d&#x27;.\n",
       "\n",
       "    csr_matrix((data, (row_ind, col_ind)), [shape=(M, N)])\n",
       "        where ``data``, ``row_ind`` and ``col_ind`` satisfy the\n",
       "        relationship ``a[row_ind[k], col_ind[k]] = data[k]``.\n",
       "\n",
       "    csr_matrix((data, indices, indptr), [shape=(M, N)])\n",
       "        is the standard CSR representation where the column indices for\n",
       "        row i are stored in ``indices[indptr[i]:indptr[i+1]]`` and their\n",
       "        corresponding values are stored in ``data[indptr[i]:indptr[i+1]]``.\n",
       "        If the shape parameter is not supplied, the matrix dimensions\n",
       "        are inferred from the index arrays.\n",
       "\n",
       "Attributes\n",
       "----------\n",
       "dtype : dtype\n",
       "    Data type of the matrix\n",
       "shape : 2-tuple\n",
       "    Shape of the matrix\n",
       "ndim : int\n",
       "    Number of dimensions (this is always 2)\n",
       "nnz\n",
       "size\n",
       "data\n",
       "    CSR format data array of the matrix\n",
       "indices\n",
       "    CSR format index array of the matrix\n",
       "indptr\n",
       "    CSR format index pointer array of the matrix\n",
       "has_sorted_indices\n",
       "has_canonical_format\n",
       "T\n",
       "\n",
       "Notes\n",
       "-----\n",
       "\n",
       "Sparse matrices can be used in arithmetic operations: they support\n",
       "addition, subtraction, multiplication, division, and matrix power.\n",
       "\n",
       "Advantages of the CSR format\n",
       "  - efficient arithmetic operations CSR + CSR, CSR * CSR, etc.\n",
       "  - efficient row slicing\n",
       "  - fast matrix vector products\n",
       "\n",
       "Disadvantages of the CSR format\n",
       "  - slow column slicing operations (consider CSC)\n",
       "  - changes to the sparsity structure are expensive (consider LIL or DOK)\n",
       "\n",
       "Canonical Format\n",
       "    - Within each row, indices are sorted by column.\n",
       "    - There are no duplicate entries.\n",
       "\n",
       "Examples\n",
       "--------\n",
       "\n",
       "&gt;&gt;&gt; import numpy as np\n",
       "&gt;&gt;&gt; from scipy.sparse import csr_matrix\n",
       "&gt;&gt;&gt; csr_matrix((3, 4), dtype=np.int8).toarray()\n",
       "array([[0, 0, 0, 0],\n",
       "       [0, 0, 0, 0],\n",
       "       [0, 0, 0, 0]], dtype=int8)\n",
       "\n",
       "&gt;&gt;&gt; row = np.array([0, 0, 1, 2, 2, 2])\n",
       "&gt;&gt;&gt; col = np.array([0, 2, 2, 0, 1, 2])\n",
       "&gt;&gt;&gt; data = np.array([1, 2, 3, 4, 5, 6])\n",
       "&gt;&gt;&gt; csr_matrix((data, (row, col)), shape=(3, 3)).toarray()\n",
       "array([[1, 0, 2],\n",
       "       [0, 0, 3],\n",
       "       [4, 5, 6]])\n",
       "\n",
       "&gt;&gt;&gt; indptr = np.array([0, 2, 3, 6])\n",
       "&gt;&gt;&gt; indices = np.array([0, 2, 2, 0, 1, 2])\n",
       "&gt;&gt;&gt; data = np.array([1, 2, 3, 4, 5, 6])\n",
       "&gt;&gt;&gt; csr_matrix((data, indices, indptr), shape=(3, 3)).toarray()\n",
       "array([[1, 0, 2],\n",
       "       [0, 0, 3],\n",
       "       [4, 5, 6]])\n",
       "\n",
       "Duplicate entries are summed together:\n",
       "\n",
       "&gt;&gt;&gt; row = np.array([0, 1, 2, 0])\n",
       "&gt;&gt;&gt; col = np.array([0, 1, 1, 0])\n",
       "&gt;&gt;&gt; data = np.array([1, 2, 4, 8])\n",
       "&gt;&gt;&gt; csr_matrix((data, (row, col)), shape=(3, 3)).toarray()\n",
       "array([[9, 0, 0],\n",
       "       [0, 2, 0],\n",
       "       [0, 4, 0]])\n",
       "\n",
       "As an example of how to construct a CSR matrix incrementally,\n",
       "the following snippet builds a term-document matrix from texts:\n",
       "\n",
       "&gt;&gt;&gt; docs = [[&quot;hello&quot;, &quot;world&quot;, &quot;hello&quot;], [&quot;goodbye&quot;, &quot;cruel&quot;, &quot;world&quot;]]\n",
       "&gt;&gt;&gt; indptr = [0]\n",
       "&gt;&gt;&gt; indices = []\n",
       "&gt;&gt;&gt; data = []\n",
       "&gt;&gt;&gt; vocabulary = {}\n",
       "&gt;&gt;&gt; for d in docs:\n",
       "...     for term in d:\n",
       "...         index = vocabulary.setdefault(term, len(vocabulary))\n",
       "...         indices.append(index)\n",
       "...         data.append(1)\n",
       "...     indptr.append(len(indices))\n",
       "...\n",
       "&gt;&gt;&gt; csr_matrix((data, indices, indptr), dtype=int).toarray()\n",
       "array([[2, 1, 0, 0],\n",
       "       [0, 1, 1, 1]])</pre>\n",
       "      <script>\n",
       "      if (google.colab.kernel.accessAllowed && google.colab.files && google.colab.files.view) {\n",
       "        for (const element of document.querySelectorAll('.filepath')) {\n",
       "          element.style.display = 'block'\n",
       "          element.onclick = (event) => {\n",
       "            event.preventDefault();\n",
       "            event.stopPropagation();\n",
       "            google.colab.files.view(element.textContent, 370);\n",
       "          };\n",
       "        }\n",
       "      }\n",
       "      for (const element of document.querySelectorAll('.function-repr-contents')) {\n",
       "        element.onclick = (event) => {\n",
       "          event.preventDefault();\n",
       "          event.stopPropagation();\n",
       "          element.classList.toggle('function-repr-contents-collapsed');\n",
       "        };\n",
       "      }\n",
       "      </script>\n",
       "      </div>"
      ]
     },
     "metadata": {},
     "execution_count": 34
    }
   ]
  },
  {
   "cell_type": "code",
   "source": [
    "print(X)"
   ],
   "metadata": {
    "colab": {
     "base_uri": "https://localhost:8080/"
    },
    "id": "9Xm5WZMBpi5D",
    "outputId": "d3f0be00-fbbe-4798-bd70-5f7b7048c8fd"
   },
   "execution_count": 35,
   "outputs": [
    {
     "output_type": "stream",
     "name": "stdout",
     "text": [
      "  (0, 14111)\t0.3596450088186696\n",
      "  (0, 11120)\t0.3141815004193741\n",
      "  (0, 3369)\t0.4882627301386867\n",
      "  (0, 18983)\t0.7304416190111062\n",
      "  (1, 5303)\t0.429303324399671\n",
      "  (1, 3367)\t0.7531625149777598\n",
      "  (1, 15892)\t0.49844245574766877\n",
      "  (2, 14111)\t0.4242645436030371\n",
      "  (2, 11120)\t0.37063233915516414\n",
      "  (2, 3369)\t0.5759917676630613\n",
      "  (2, 15892)\t0.5923383744094753\n",
      "  (3, 14111)\t0.34474311825658266\n",
      "  (3, 3369)\t0.46803156442899924\n",
      "  (3, 18983)\t0.7001757712957407\n",
      "  (3, 5303)\t0.4145509937309115\n",
      "  (4, 14111)\t0.3596450088186696\n",
      "  (4, 11120)\t0.3141815004193741\n",
      "  (4, 3369)\t0.4882627301386867\n",
      "  (4, 18983)\t0.7304416190111062\n",
      "  (5, 14111)\t0.3596450088186696\n",
      "  (5, 11120)\t0.3141815004193741\n",
      "  (5, 3369)\t0.4882627301386867\n",
      "  (5, 18983)\t0.7304416190111062\n",
      "  (6, 3369)\t0.14965454852918428\n",
      "  (6, 27506)\t0.21403659779649029\n",
      "  :\t:\n",
      "  (73993, 21156)\t0.44608694946484423\n",
      "  (73994, 16710)\t0.15422037969416202\n",
      "  (73994, 33691)\t0.18570713967163852\n",
      "  (73994, 10558)\t0.16632879115002533\n",
      "  (73994, 8944)\t0.20183599547291814\n",
      "  (73994, 24238)\t0.2816480503675867\n",
      "  (73994, 13883)\t0.25248504268632893\n",
      "  (73994, 2479)\t0.2799055404000194\n",
      "  (73994, 19871)\t0.2994532159191204\n",
      "  (73994, 17350)\t0.33035295810922083\n",
      "  (73994, 4222)\t0.2723146124960453\n",
      "  (73994, 32910)\t0.2814507352657964\n",
      "  (73994, 7880)\t0.2851566325700424\n",
      "  (73994, 20021)\t0.20433221929458345\n",
      "  (73994, 21156)\t0.4203134941544308\n",
      "  (73995, 16710)\t0.3322443978408725\n",
      "  (73995, 33691)\t0.2000389213063583\n",
      "  (73995, 13883)\t0.27197034898209976\n",
      "  (73995, 7142)\t0.2506064877160852\n",
      "  (73995, 2479)\t0.30150699896781813\n",
      "  (73995, 19871)\t0.322563248780301\n",
      "  (73995, 17350)\t0.3558476508085783\n",
      "  (73995, 32910)\t0.30317144285890757\n",
      "  (73995, 7880)\t0.30716333945762914\n",
      "  (73995, 21156)\t0.4527508103879291\n"
     ]
    }
   ]
  },
  {
   "cell_type": "markdown",
   "source": [
    "Most of the elements in a TF-IDF matrix are typically zero (because most words don't appear in most documents).  Storing all those zeros would be extremely inefficient.  Sparse matrix formats like COO, Compressed Sparse Row (CSR), and Compressed Sparse Column (CSC) only store the non-zero values and their indices, saving a huge amount of memory."
   ],
   "metadata": {
    "id": "H-Pxfu7ur3Zf"
   }
  },
  {
   "cell_type": "code",
   "source": [
    "tf_idf_matrix = X"
   ],
   "metadata": {
    "id": "06G2fdos8_hY"
   },
   "execution_count": 39,
   "outputs": []
  },
  {
   "cell_type": "code",
   "source": [
    "sentiment_map = {\n",
    "    'Positive': 3,\n",
    "    'Neutral': 1,\n",
    "    'Irrelevant': 2,\n",
    "    'Negative': 0\n",
    "}"
   ],
   "metadata": {
    "id": "FlcWKNRSMEni"
   },
   "execution_count": 19,
   "outputs": []
  },
  {
   "cell_type": "code",
   "source": [
    "train_df['sentiment'] = train_df['sentiment'].map(sentiment_map)"
   ],
   "metadata": {
    "id": "zFLV98gAOk1e"
   },
   "execution_count": 20,
   "outputs": []
  },
  {
   "cell_type": "code",
   "source": [
    "len(train_df['title'].unique())"
   ],
   "metadata": {
    "colab": {
     "base_uri": "https://localhost:8080/"
    },
    "id": "tJ5CPGh1Oryx",
    "outputId": "9a24ecb9-837b-4dcb-86a1-b4cc1b72d029"
   },
   "execution_count": 21,
   "outputs": [
    {
     "output_type": "execute_result",
     "data": {
      "text/plain": [
       "32"
      ]
     },
     "metadata": {},
     "execution_count": 21
    }
   ]
  },
  {
   "cell_type": "code",
   "source": [
    "le = LabelEncoder()\n",
    "train_df['title'] = le.fit_transform(train_df['title'])"
   ],
   "metadata": {
    "id": "ktHw65z_OtOn"
   },
   "execution_count": 22,
   "outputs": []
  },
  {
   "cell_type": "code",
   "source": [
    "train_df.head(2)"
   ],
   "metadata": {
    "colab": {
     "base_uri": "https://localhost:8080/",
     "height": 112
    },
    "id": "D5EKLKI4vF_2",
    "outputId": "7116ef97-99ad-45a5-f7be-4b12aa3bd2a5"
   },
   "execution_count": 40,
   "outputs": [
    {
     "output_type": "execute_result",
     "data": {
      "text/plain": [
       "     id  title  sentiment                           text\n",
       "0  2401      4          3  [im, get, borderland, murder]\n",
       "1  2401      4          3           [come, border, kill]"
      ],
      "text/html": [
       "\n",
       "  <div id=\"df-b1bfd7e8-ddfa-4116-9c49-d6064e7de182\" class=\"colab-df-container\">\n",
       "    <div>\n",
       "<style scoped>\n",
       "    .dataframe tbody tr th:only-of-type {\n",
       "        vertical-align: middle;\n",
       "    }\n",
       "\n",
       "    .dataframe tbody tr th {\n",
       "        vertical-align: top;\n",
       "    }\n",
       "\n",
       "    .dataframe thead th {\n",
       "        text-align: right;\n",
       "    }\n",
       "</style>\n",
       "<table border=\"1\" class=\"dataframe\">\n",
       "  <thead>\n",
       "    <tr style=\"text-align: right;\">\n",
       "      <th></th>\n",
       "      <th>id</th>\n",
       "      <th>title</th>\n",
       "      <th>sentiment</th>\n",
       "      <th>text</th>\n",
       "    </tr>\n",
       "  </thead>\n",
       "  <tbody>\n",
       "    <tr>\n",
       "      <th>0</th>\n",
       "      <td>2401</td>\n",
       "      <td>4</td>\n",
       "      <td>3</td>\n",
       "      <td>[im, get, borderland, murder]</td>\n",
       "    </tr>\n",
       "    <tr>\n",
       "      <th>1</th>\n",
       "      <td>2401</td>\n",
       "      <td>4</td>\n",
       "      <td>3</td>\n",
       "      <td>[come, border, kill]</td>\n",
       "    </tr>\n",
       "  </tbody>\n",
       "</table>\n",
       "</div>\n",
       "    <div class=\"colab-df-buttons\">\n",
       "\n",
       "  <div class=\"colab-df-container\">\n",
       "    <button class=\"colab-df-convert\" onclick=\"convertToInteractive('df-b1bfd7e8-ddfa-4116-9c49-d6064e7de182')\"\n",
       "            title=\"Convert this dataframe to an interactive table.\"\n",
       "            style=\"display:none;\">\n",
       "\n",
       "  <svg xmlns=\"http://www.w3.org/2000/svg\" height=\"24px\" viewBox=\"0 -960 960 960\">\n",
       "    <path d=\"M120-120v-720h720v720H120Zm60-500h600v-160H180v160Zm220 220h160v-160H400v160Zm0 220h160v-160H400v160ZM180-400h160v-160H180v160Zm440 0h160v-160H620v160ZM180-180h160v-160H180v160Zm440 0h160v-160H620v160Z\"/>\n",
       "  </svg>\n",
       "    </button>\n",
       "\n",
       "  <style>\n",
       "    .colab-df-container {\n",
       "      display:flex;\n",
       "      gap: 12px;\n",
       "    }\n",
       "\n",
       "    .colab-df-convert {\n",
       "      background-color: #E8F0FE;\n",
       "      border: none;\n",
       "      border-radius: 50%;\n",
       "      cursor: pointer;\n",
       "      display: none;\n",
       "      fill: #1967D2;\n",
       "      height: 32px;\n",
       "      padding: 0 0 0 0;\n",
       "      width: 32px;\n",
       "    }\n",
       "\n",
       "    .colab-df-convert:hover {\n",
       "      background-color: #E2EBFA;\n",
       "      box-shadow: 0px 1px 2px rgba(60, 64, 67, 0.3), 0px 1px 3px 1px rgba(60, 64, 67, 0.15);\n",
       "      fill: #174EA6;\n",
       "    }\n",
       "\n",
       "    .colab-df-buttons div {\n",
       "      margin-bottom: 4px;\n",
       "    }\n",
       "\n",
       "    [theme=dark] .colab-df-convert {\n",
       "      background-color: #3B4455;\n",
       "      fill: #D2E3FC;\n",
       "    }\n",
       "\n",
       "    [theme=dark] .colab-df-convert:hover {\n",
       "      background-color: #434B5C;\n",
       "      box-shadow: 0px 1px 3px 1px rgba(0, 0, 0, 0.15);\n",
       "      filter: drop-shadow(0px 1px 2px rgba(0, 0, 0, 0.3));\n",
       "      fill: #FFFFFF;\n",
       "    }\n",
       "  </style>\n",
       "\n",
       "    <script>\n",
       "      const buttonEl =\n",
       "        document.querySelector('#df-b1bfd7e8-ddfa-4116-9c49-d6064e7de182 button.colab-df-convert');\n",
       "      buttonEl.style.display =\n",
       "        google.colab.kernel.accessAllowed ? 'block' : 'none';\n",
       "\n",
       "      async function convertToInteractive(key) {\n",
       "        const element = document.querySelector('#df-b1bfd7e8-ddfa-4116-9c49-d6064e7de182');\n",
       "        const dataTable =\n",
       "          await google.colab.kernel.invokeFunction('convertToInteractive',\n",
       "                                                    [key], {});\n",
       "        if (!dataTable) return;\n",
       "\n",
       "        const docLinkHtml = 'Like what you see? Visit the ' +\n",
       "          '<a target=\"_blank\" href=https://colab.research.google.com/notebooks/data_table.ipynb>data table notebook</a>'\n",
       "          + ' to learn more about interactive tables.';\n",
       "        element.innerHTML = '';\n",
       "        dataTable['output_type'] = 'display_data';\n",
       "        await google.colab.output.renderOutput(dataTable, element);\n",
       "        const docLink = document.createElement('div');\n",
       "        docLink.innerHTML = docLinkHtml;\n",
       "        element.appendChild(docLink);\n",
       "      }\n",
       "    </script>\n",
       "  </div>\n",
       "\n",
       "\n",
       "<div id=\"df-a9fcc274-7e9b-4452-a29e-76921a5d360f\">\n",
       "  <button class=\"colab-df-quickchart\" onclick=\"quickchart('df-a9fcc274-7e9b-4452-a29e-76921a5d360f')\"\n",
       "            title=\"Suggest charts\"\n",
       "            style=\"display:none;\">\n",
       "\n",
       "<svg xmlns=\"http://www.w3.org/2000/svg\" height=\"24px\"viewBox=\"0 0 24 24\"\n",
       "     width=\"24px\">\n",
       "    <g>\n",
       "        <path d=\"M19 3H5c-1.1 0-2 .9-2 2v14c0 1.1.9 2 2 2h14c1.1 0 2-.9 2-2V5c0-1.1-.9-2-2-2zM9 17H7v-7h2v7zm4 0h-2V7h2v10zm4 0h-2v-4h2v4z\"/>\n",
       "    </g>\n",
       "</svg>\n",
       "  </button>\n",
       "\n",
       "<style>\n",
       "  .colab-df-quickchart {\n",
       "      --bg-color: #E8F0FE;\n",
       "      --fill-color: #1967D2;\n",
       "      --hover-bg-color: #E2EBFA;\n",
       "      --hover-fill-color: #174EA6;\n",
       "      --disabled-fill-color: #AAA;\n",
       "      --disabled-bg-color: #DDD;\n",
       "  }\n",
       "\n",
       "  [theme=dark] .colab-df-quickchart {\n",
       "      --bg-color: #3B4455;\n",
       "      --fill-color: #D2E3FC;\n",
       "      --hover-bg-color: #434B5C;\n",
       "      --hover-fill-color: #FFFFFF;\n",
       "      --disabled-bg-color: #3B4455;\n",
       "      --disabled-fill-color: #666;\n",
       "  }\n",
       "\n",
       "  .colab-df-quickchart {\n",
       "    background-color: var(--bg-color);\n",
       "    border: none;\n",
       "    border-radius: 50%;\n",
       "    cursor: pointer;\n",
       "    display: none;\n",
       "    fill: var(--fill-color);\n",
       "    height: 32px;\n",
       "    padding: 0;\n",
       "    width: 32px;\n",
       "  }\n",
       "\n",
       "  .colab-df-quickchart:hover {\n",
       "    background-color: var(--hover-bg-color);\n",
       "    box-shadow: 0 1px 2px rgba(60, 64, 67, 0.3), 0 1px 3px 1px rgba(60, 64, 67, 0.15);\n",
       "    fill: var(--button-hover-fill-color);\n",
       "  }\n",
       "\n",
       "  .colab-df-quickchart-complete:disabled,\n",
       "  .colab-df-quickchart-complete:disabled:hover {\n",
       "    background-color: var(--disabled-bg-color);\n",
       "    fill: var(--disabled-fill-color);\n",
       "    box-shadow: none;\n",
       "  }\n",
       "\n",
       "  .colab-df-spinner {\n",
       "    border: 2px solid var(--fill-color);\n",
       "    border-color: transparent;\n",
       "    border-bottom-color: var(--fill-color);\n",
       "    animation:\n",
       "      spin 1s steps(1) infinite;\n",
       "  }\n",
       "\n",
       "  @keyframes spin {\n",
       "    0% {\n",
       "      border-color: transparent;\n",
       "      border-bottom-color: var(--fill-color);\n",
       "      border-left-color: var(--fill-color);\n",
       "    }\n",
       "    20% {\n",
       "      border-color: transparent;\n",
       "      border-left-color: var(--fill-color);\n",
       "      border-top-color: var(--fill-color);\n",
       "    }\n",
       "    30% {\n",
       "      border-color: transparent;\n",
       "      border-left-color: var(--fill-color);\n",
       "      border-top-color: var(--fill-color);\n",
       "      border-right-color: var(--fill-color);\n",
       "    }\n",
       "    40% {\n",
       "      border-color: transparent;\n",
       "      border-right-color: var(--fill-color);\n",
       "      border-top-color: var(--fill-color);\n",
       "    }\n",
       "    60% {\n",
       "      border-color: transparent;\n",
       "      border-right-color: var(--fill-color);\n",
       "    }\n",
       "    80% {\n",
       "      border-color: transparent;\n",
       "      border-right-color: var(--fill-color);\n",
       "      border-bottom-color: var(--fill-color);\n",
       "    }\n",
       "    90% {\n",
       "      border-color: transparent;\n",
       "      border-bottom-color: var(--fill-color);\n",
       "    }\n",
       "  }\n",
       "</style>\n",
       "\n",
       "  <script>\n",
       "    async function quickchart(key) {\n",
       "      const quickchartButtonEl =\n",
       "        document.querySelector('#' + key + ' button');\n",
       "      quickchartButtonEl.disabled = true;  // To prevent multiple clicks.\n",
       "      quickchartButtonEl.classList.add('colab-df-spinner');\n",
       "      try {\n",
       "        const charts = await google.colab.kernel.invokeFunction(\n",
       "            'suggestCharts', [key], {});\n",
       "      } catch (error) {\n",
       "        console.error('Error during call to suggestCharts:', error);\n",
       "      }\n",
       "      quickchartButtonEl.classList.remove('colab-df-spinner');\n",
       "      quickchartButtonEl.classList.add('colab-df-quickchart-complete');\n",
       "    }\n",
       "    (() => {\n",
       "      let quickchartButtonEl =\n",
       "        document.querySelector('#df-a9fcc274-7e9b-4452-a29e-76921a5d360f button');\n",
       "      quickchartButtonEl.style.display =\n",
       "        google.colab.kernel.accessAllowed ? 'block' : 'none';\n",
       "    })();\n",
       "  </script>\n",
       "</div>\n",
       "\n",
       "    </div>\n",
       "  </div>\n"
      ],
      "application/vnd.google.colaboratory.intrinsic+json": {
       "type": "dataframe",
       "variable_name": "train_df",
       "summary": "{\n  \"name\": \"train_df\",\n  \"rows\": 73996,\n  \"fields\": [\n    {\n      \"column\": \"id\",\n      \"properties\": {\n        \"dtype\": \"number\",\n        \"std\": 3737,\n        \"min\": 1,\n        \"max\": 13200,\n        \"num_unique_values\": 12447,\n        \"samples\": [\n          1616,\n          2660,\n          2335\n        ],\n        \"semantic_type\": \"\",\n        \"description\": \"\"\n      }\n    },\n    {\n      \"column\": \"title\",\n      \"properties\": {\n        \"dtype\": \"number\",\n        \"std\": 9,\n        \"min\": 0,\n        \"max\": 31,\n        \"num_unique_values\": 32,\n        \"samples\": [\n          8,\n          19,\n          27\n        ],\n        \"semantic_type\": \"\",\n        \"description\": \"\"\n      }\n    },\n    {\n      \"column\": \"sentiment\",\n      \"properties\": {\n        \"dtype\": \"number\",\n        \"std\": 1,\n        \"min\": 0,\n        \"max\": 3,\n        \"num_unique_values\": 4,\n        \"samples\": [\n          1,\n          2,\n          3\n        ],\n        \"semantic_type\": \"\",\n        \"description\": \"\"\n      }\n    },\n    {\n      \"column\": \"text\",\n      \"properties\": {\n        \"dtype\": \"object\",\n        \"semantic_type\": \"\",\n        \"description\": \"\"\n      }\n    }\n  ]\n}"
      }
     },
     "metadata": {},
     "execution_count": 40
    }
   ]
  },
  {
   "cell_type": "code",
   "source": [
    "target = train_df['sentiment']"
   ],
   "metadata": {
    "id": "fpY0mf9l_dKb"
   },
   "execution_count": 42,
   "outputs": []
  },
  {
   "cell_type": "code",
   "source": [
    "independent_variables = ['id','title']\n",
    "features = train_df[independent_variables].values"
   ],
   "metadata": {
    "id": "GQZfQDrr_ioE"
   },
   "execution_count": 64,
   "outputs": []
  },
  {
   "cell_type": "code",
   "source": [
    "features.values"
   ],
   "metadata": {
    "colab": {
     "base_uri": "https://localhost:8080/"
    },
    "id": "MCwyhoGvGD8k",
    "outputId": "07da2d0e-4985-4aeb-9b72-25f9c3970aa2"
   },
   "execution_count": 60,
   "outputs": [
    {
     "output_type": "execute_result",
     "data": {
      "text/plain": [
       "array([[2401,    4],\n",
       "       [2401,    4],\n",
       "       [2401,    4],\n",
       "       ...,\n",
       "       [9200,   21],\n",
       "       [9200,   21],\n",
       "       [9200,   21]])"
      ]
     },
     "metadata": {},
     "execution_count": 60
    }
   ]
  },
  {
   "cell_type": "code",
   "source": [
    "print(f'''dimension = {features.values.ndim}\n",
    "shape = {features.values.shape}''')"
   ],
   "metadata": {
    "colab": {
     "base_uri": "https://localhost:8080/"
    },
    "id": "60rWC_3HDjoZ",
    "outputId": "8b706aa3-a0ec-4d18-ce7d-f714b5d9058f"
   },
   "execution_count": 62,
   "outputs": [
    {
     "output_type": "stream",
     "name": "stdout",
     "text": [
      "dimension = 2\n",
      "shape = (73996, 2)\n"
     ]
    }
   ]
  },
  {
   "cell_type": "code",
   "source": [
    "print(f'''dimension = {tf_idf_matrix.ndim}\n",
    "shape = {tf_idf_matrix.shape}''')"
   ],
   "metadata": {
    "colab": {
     "base_uri": "https://localhost:8080/"
    },
    "id": "yaDGXY07DrzJ",
    "outputId": "0e8ef100-91c1-4827-bfcc-3a78186b0b79"
   },
   "execution_count": 58,
   "outputs": [
    {
     "output_type": "stream",
     "name": "stdout",
     "text": [
      "dimension = 2\n",
      "shape = (73996, 34526)\n"
     ]
    }
   ]
  },
  {
   "cell_type": "code",
   "source": [
    "features = hstack((features,tf_idf_matrix))"
   ],
   "metadata": {
    "id": "NG5i59ZkELyl"
   },
   "execution_count": 66,
   "outputs": []
  },
  {
   "cell_type": "code",
   "source": [
    "features"
   ],
   "metadata": {
    "colab": {
     "base_uri": "https://localhost:8080/"
    },
    "id": "cUSPdbqDOtSP",
    "outputId": "d8cbfd60-2955-475c-ee0c-9436b18e9456"
   },
   "execution_count": 67,
   "outputs": [
    {
     "output_type": "execute_result",
     "data": {
      "text/plain": [
       "<73996x34528 sparse matrix of type '<class 'numpy.float64'>'\n",
       "\twith 889162 stored elements in COOrdinate format>"
      ]
     },
     "metadata": {},
     "execution_count": 67
    }
   ]
  },
  {
   "cell_type": "markdown",
   "source": [
    "#Training a neural network to predict the sentiment based on the independent variables in my dataframe."
   ],
   "metadata": {
    "id": "ExRhgCwo_S60"
   }
  },
  {
   "cell_type": "code",
   "source": [
    "num_categories = features.shape[1]\n",
    "print(num_categories)"
   ],
   "metadata": {
    "id": "IBygQw9RXq6c",
    "colab": {
     "base_uri": "https://localhost:8080/"
    },
    "outputId": "4c91ab67-6340-4970-9158-61d28bbf209c"
   },
   "execution_count": 70,
   "outputs": [
    {
     "output_type": "stream",
     "name": "stdout",
     "text": [
      "34528\n"
     ]
    }
   ]
  },
  {
   "cell_type": "code",
   "source": [
    "embedding_dim = 5"
   ],
   "metadata": {
    "id": "q-ddtn38Ybrr"
   },
   "execution_count": 71,
   "outputs": []
  },
  {
   "cell_type": "code",
   "source": [
    "nn = Sequential()"
   ],
   "metadata": {
    "id": "lsvQ-DxNYfhE"
   },
   "execution_count": 72,
   "outputs": []
  },
  {
   "cell_type": "code",
   "source": [
    "nn.add(Embedding(input_dim=num_categories,  # 32 categories\n",
    "                    output_dim=embedding_dim,  # Dimension of the embedding vector (e.g., 5)\n",
    "                    input_length=1))"
   ],
   "metadata": {
    "id": "hltUR5LtY-gM",
    "outputId": "43bca5b1-9a1c-43ba-db4e-fa8f4cb62f49",
    "colab": {
     "base_uri": "https://localhost:8080/"
    }
   },
   "execution_count": 73,
   "outputs": [
    {
     "output_type": "stream",
     "name": "stderr",
     "text": [
      "/usr/local/lib/python3.11/dist-packages/keras/src/layers/core/embedding.py:90: UserWarning: Argument `input_length` is deprecated. Just remove it.\n",
      "  warnings.warn(\n"
     ]
    }
   ]
  },
  {
   "cell_type": "code",
   "source": [
    "nn.add(Flatten())"
   ],
   "metadata": {
    "id": "C6xA3FMiZKMB"
   },
   "execution_count": 74,
   "outputs": []
  },
  {
   "cell_type": "code",
   "source": [
    "nn.add(Dense(64, activation='relu'))  # Hidden layer with 64 neurons\n",
    "nn.add(Dense(32, activation='relu'))"
   ],
   "metadata": {
    "id": "XryMqEjIZR08"
   },
   "execution_count": 75,
   "outputs": []
  },
  {
   "cell_type": "code",
   "source": [
    "nn.add(Dense(4, activation='softmax'))  # Output layer with 4 classes (0-3)"
   ],
   "metadata": {
    "id": "GeXIscNPZckF"
   },
   "execution_count": 76,
   "outputs": []
  },
  {
   "cell_type": "code",
   "source": [
    "# Compile the model\n",
    "nn.compile(optimizer='adam', loss='sparse_categorical_crossentropy', metrics=['accuracy'])\n"
   ],
   "metadata": {
    "id": "ZmwEzRWaZjlW"
   },
   "execution_count": 77,
   "outputs": []
  },
  {
   "cell_type": "code",
   "source": [
    "nn.summary()"
   ],
   "metadata": {
    "id": "JcTGM73XZowQ",
    "outputId": "d73fac73-bec4-4f4c-8494-fab660215dec",
    "colab": {
     "base_uri": "https://localhost:8080/",
     "height": 289
    }
   },
   "execution_count": 78,
   "outputs": [
    {
     "output_type": "display_data",
     "data": {
      "text/plain": [
       "\u001B[1mModel: \"sequential_1\"\u001B[0m\n"
      ],
      "text/html": [
       "<pre style=\"white-space:pre;overflow-x:auto;line-height:normal;font-family:Menlo,'DejaVu Sans Mono',consolas,'Courier New',monospace\"><span style=\"font-weight: bold\">Model: \"sequential_1\"</span>\n",
       "</pre>\n"
      ]
     },
     "metadata": {}
    },
    {
     "output_type": "display_data",
     "data": {
      "text/plain": [
       "┏━━━━━━━━━━━━━━━━━━━━━━━━━━━━━━━━━━━━━━┳━━━━━━━━━━━━━━━━━━━━━━━━━━━━━┳━━━━━━━━━━━━━━━━━┓\n",
       "┃\u001B[1m \u001B[0m\u001B[1mLayer (type)                        \u001B[0m\u001B[1m \u001B[0m┃\u001B[1m \u001B[0m\u001B[1mOutput Shape               \u001B[0m\u001B[1m \u001B[0m┃\u001B[1m \u001B[0m\u001B[1m        Param #\u001B[0m\u001B[1m \u001B[0m┃\n",
       "┡━━━━━━━━━━━━━━━━━━━━━━━━━━━━━━━━━━━━━━╇━━━━━━━━━━━━━━━━━━━━━━━━━━━━━╇━━━━━━━━━━━━━━━━━┩\n",
       "│ embedding_1 (\u001B[38;5;33mEmbedding\u001B[0m)              │ ?                           │     \u001B[38;5;34m0\u001B[0m (unbuilt) │\n",
       "├──────────────────────────────────────┼─────────────────────────────┼─────────────────┤\n",
       "│ flatten_1 (\u001B[38;5;33mFlatten\u001B[0m)                  │ ?                           │     \u001B[38;5;34m0\u001B[0m (unbuilt) │\n",
       "├──────────────────────────────────────┼─────────────────────────────┼─────────────────┤\n",
       "│ dense_3 (\u001B[38;5;33mDense\u001B[0m)                      │ ?                           │     \u001B[38;5;34m0\u001B[0m (unbuilt) │\n",
       "├──────────────────────────────────────┼─────────────────────────────┼─────────────────┤\n",
       "│ dense_4 (\u001B[38;5;33mDense\u001B[0m)                      │ ?                           │     \u001B[38;5;34m0\u001B[0m (unbuilt) │\n",
       "├──────────────────────────────────────┼─────────────────────────────┼─────────────────┤\n",
       "│ dense_5 (\u001B[38;5;33mDense\u001B[0m)                      │ ?                           │     \u001B[38;5;34m0\u001B[0m (unbuilt) │\n",
       "└──────────────────────────────────────┴─────────────────────────────┴─────────────────┘\n"
      ],
      "text/html": [
       "<pre style=\"white-space:pre;overflow-x:auto;line-height:normal;font-family:Menlo,'DejaVu Sans Mono',consolas,'Courier New',monospace\">┏━━━━━━━━━━━━━━━━━━━━━━━━━━━━━━━━━━━━━━┳━━━━━━━━━━━━━━━━━━━━━━━━━━━━━┳━━━━━━━━━━━━━━━━━┓\n",
       "┃<span style=\"font-weight: bold\"> Layer (type)                         </span>┃<span style=\"font-weight: bold\"> Output Shape                </span>┃<span style=\"font-weight: bold\">         Param # </span>┃\n",
       "┡━━━━━━━━━━━━━━━━━━━━━━━━━━━━━━━━━━━━━━╇━━━━━━━━━━━━━━━━━━━━━━━━━━━━━╇━━━━━━━━━━━━━━━━━┩\n",
       "│ embedding_1 (<span style=\"color: #0087ff; text-decoration-color: #0087ff\">Embedding</span>)              │ ?                           │     <span style=\"color: #00af00; text-decoration-color: #00af00\">0</span> (unbuilt) │\n",
       "├──────────────────────────────────────┼─────────────────────────────┼─────────────────┤\n",
       "│ flatten_1 (<span style=\"color: #0087ff; text-decoration-color: #0087ff\">Flatten</span>)                  │ ?                           │     <span style=\"color: #00af00; text-decoration-color: #00af00\">0</span> (unbuilt) │\n",
       "├──────────────────────────────────────┼─────────────────────────────┼─────────────────┤\n",
       "│ dense_3 (<span style=\"color: #0087ff; text-decoration-color: #0087ff\">Dense</span>)                      │ ?                           │     <span style=\"color: #00af00; text-decoration-color: #00af00\">0</span> (unbuilt) │\n",
       "├──────────────────────────────────────┼─────────────────────────────┼─────────────────┤\n",
       "│ dense_4 (<span style=\"color: #0087ff; text-decoration-color: #0087ff\">Dense</span>)                      │ ?                           │     <span style=\"color: #00af00; text-decoration-color: #00af00\">0</span> (unbuilt) │\n",
       "├──────────────────────────────────────┼─────────────────────────────┼─────────────────┤\n",
       "│ dense_5 (<span style=\"color: #0087ff; text-decoration-color: #0087ff\">Dense</span>)                      │ ?                           │     <span style=\"color: #00af00; text-decoration-color: #00af00\">0</span> (unbuilt) │\n",
       "└──────────────────────────────────────┴─────────────────────────────┴─────────────────┘\n",
       "</pre>\n"
      ]
     },
     "metadata": {}
    },
    {
     "output_type": "display_data",
     "data": {
      "text/plain": [
       "\u001B[1m Total params: \u001B[0m\u001B[38;5;34m0\u001B[0m (0.00 B)\n"
      ],
      "text/html": [
       "<pre style=\"white-space:pre;overflow-x:auto;line-height:normal;font-family:Menlo,'DejaVu Sans Mono',consolas,'Courier New',monospace\"><span style=\"font-weight: bold\"> Total params: </span><span style=\"color: #00af00; text-decoration-color: #00af00\">0</span> (0.00 B)\n",
       "</pre>\n"
      ]
     },
     "metadata": {}
    },
    {
     "output_type": "display_data",
     "data": {
      "text/plain": [
       "\u001B[1m Trainable params: \u001B[0m\u001B[38;5;34m0\u001B[0m (0.00 B)\n"
      ],
      "text/html": [
       "<pre style=\"white-space:pre;overflow-x:auto;line-height:normal;font-family:Menlo,'DejaVu Sans Mono',consolas,'Courier New',monospace\"><span style=\"font-weight: bold\"> Trainable params: </span><span style=\"color: #00af00; text-decoration-color: #00af00\">0</span> (0.00 B)\n",
       "</pre>\n"
      ]
     },
     "metadata": {}
    },
    {
     "output_type": "display_data",
     "data": {
      "text/plain": [
       "\u001B[1m Non-trainable params: \u001B[0m\u001B[38;5;34m0\u001B[0m (0.00 B)\n"
      ],
      "text/html": [
       "<pre style=\"white-space:pre;overflow-x:auto;line-height:normal;font-family:Menlo,'DejaVu Sans Mono',consolas,'Courier New',monospace\"><span style=\"font-weight: bold\"> Non-trainable params: </span><span style=\"color: #00af00; text-decoration-color: #00af00\">0</span> (0.00 B)\n",
       "</pre>\n"
      ]
     },
     "metadata": {}
    }
   ]
  },
  {
   "cell_type": "code",
   "source": [
    "nn.fit(features, target, epochs=10, batch_size=32)"
   ],
   "metadata": {
    "id": "6yajZePQZuLR",
    "outputId": "122373b0-ec3c-46c8-e90a-3f7972df7088",
    "colab": {
     "base_uri": "https://localhost:8080/"
    }
   },
   "execution_count": 79,
   "outputs": [
    {
     "output_type": "stream",
     "name": "stdout",
     "text": [
      "Epoch 1/10\n",
      "\u001B[1m2313/2313\u001B[0m \u001B[32m━━━━━━━━━━━━━━━━━━━━\u001B[0m\u001B[37m\u001B[0m \u001B[1m701s\u001B[0m 302ms/step - accuracy: 0.2695 - loss: 7.2092\n",
      "Epoch 2/10\n",
      "\u001B[1m2313/2313\u001B[0m \u001B[32m━━━━━━━━━━━━━━━━━━━━\u001B[0m\u001B[37m\u001B[0m \u001B[1m743s\u001B[0m 302ms/step - accuracy: 0.3750 - loss: 2.7159\n",
      "Epoch 3/10\n",
      "\u001B[1m2313/2313\u001B[0m \u001B[32m━━━━━━━━━━━━━━━━━━━━\u001B[0m\u001B[37m\u001B[0m \u001B[1m704s\u001B[0m 286ms/step - accuracy: 0.3058 - loss: 1.3656\n",
      "Epoch 4/10\n",
      "\u001B[1m2313/2313\u001B[0m \u001B[32m━━━━━━━━━━━━━━━━━━━━\u001B[0m\u001B[37m\u001B[0m \u001B[1m668s\u001B[0m 289ms/step - accuracy: 0.3026 - loss: 1.3662\n",
      "Epoch 5/10\n",
      "\u001B[1m2313/2313\u001B[0m \u001B[32m━━━━━━━━━━━━━━━━━━━━\u001B[0m\u001B[37m\u001B[0m \u001B[1m691s\u001B[0m 299ms/step - accuracy: 0.3025 - loss: 1.3678\n",
      "Epoch 6/10\n",
      "\u001B[1m2313/2313\u001B[0m \u001B[32m━━━━━━━━━━━━━━━━━━━━\u001B[0m\u001B[37m\u001B[0m \u001B[1m644s\u001B[0m 279ms/step - accuracy: 0.2996 - loss: 1.3679\n",
      "Epoch 7/10\n",
      "\u001B[1m2313/2313\u001B[0m \u001B[32m━━━━━━━━━━━━━━━━━━━━\u001B[0m\u001B[37m\u001B[0m \u001B[1m702s\u001B[0m 304ms/step - accuracy: 0.3034 - loss: 1.3674\n",
      "Epoch 8/10\n",
      "\u001B[1m2313/2313\u001B[0m \u001B[32m━━━━━━━━━━━━━━━━━━━━\u001B[0m\u001B[37m\u001B[0m \u001B[1m687s\u001B[0m 297ms/step - accuracy: 0.2987 - loss: 1.3674\n",
      "Epoch 9/10\n",
      "\u001B[1m2313/2313\u001B[0m \u001B[32m━━━━━━━━━━━━━━━━━━━━\u001B[0m\u001B[37m\u001B[0m \u001B[1m686s\u001B[0m 297ms/step - accuracy: 0.3018 - loss: 1.3672\n",
      "Epoch 10/10\n",
      "\u001B[1m2313/2313\u001B[0m \u001B[32m━━━━━━━━━━━━━━━━━━━━\u001B[0m\u001B[37m\u001B[0m \u001B[1m747s\u001B[0m 299ms/step - accuracy: 0.3007 - loss: 1.3673\n"
     ]
    },
    {
     "output_type": "execute_result",
     "data": {
      "text/plain": [
       "<keras.src.callbacks.history.History at 0x7848b2e56950>"
      ]
     },
     "metadata": {},
     "execution_count": 79
    }
   ]
  },
  {
   "cell_type": "code",
   "source": [
    "import numpy as np\n",
    "\n",
    "A = np.random.randn(3,4)\n",
    "B = np.random.randn(4,3)\n",
    "\n",
    "print(f''' A : {type(A)}\n",
    "      B:  {type(B)}\n",
    "      A multiplied by B : {A@B}''')"
   ],
   "metadata": {
    "colab": {
     "base_uri": "https://localhost:8080/"
    },
    "id": "HN9Z8Pn4u2R4",
    "outputId": "48052576-2caa-4888-8569-0b6f5841208d"
   },
   "execution_count": 2,
   "outputs": [
    {
     "output_type": "stream",
     "name": "stdout",
     "text": [
      " A : <class 'numpy.ndarray'>\n",
      "      B:  <class 'numpy.ndarray'>\n",
      "      A multiplied by B : [[ 2.1524762  -0.52164316  1.19352793]\n",
      " [-0.5041541   0.55134038  2.6502013 ]\n",
      " [-0.58687291  0.04682675 -3.08522822]]\n"
     ]
    }
   ]
  },
  {
   "cell_type": "code",
   "source": [],
   "metadata": {
    "id": "hJU542k-2Bzk"
   },
   "execution_count": null,
   "outputs": []
  }
 ],
 "metadata": {
  "language_info": {
   "name": "python"
  },
  "colab": {
   "provenance": [],
   "include_colab_link": true
  },
  "kernelspec": {
   "name": "python3",
   "display_name": "Python 3"
  }
 },
 "nbformat": 4,
 "nbformat_minor": 0
}
